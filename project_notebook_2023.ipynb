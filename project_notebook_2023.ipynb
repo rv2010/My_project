{
  "metadata": {
    "language_info": {
      "codemirror_mode": {
        "name": "python",
        "version": 3
      },
      "file_extension": ".py",
      "mimetype": "text/x-python",
      "name": "python",
      "nbconvert_exporter": "python",
      "pygments_lexer": "ipython3",
      "version": "3.8"
    },
    "kernelspec": {
      "name": "python",
      "display_name": "Pyolite",
      "language": "python"
    }
  },
  "nbformat_minor": 4,
  "nbformat": 4,
  "cells": [
    {
      "cell_type": "markdown",
      "source": "# **My Jupyter Notebook on IBM Watson Studio**",
      "metadata": {}
    },
    {
      "cell_type": "markdown",
      "source": "**Reza VakiliSohrForouzani**",
      "metadata": {}
    },
    {
      "cell_type": "markdown",
      "source": "**100% Human**",
      "metadata": {}
    },
    {
      "cell_type": "markdown",
      "source": "*I am interested in data science because I Love to gain insights from data*",
      "metadata": {}
    },
    {
      "cell_type": "markdown",
      "source": "### **The following code tests the Gauss formula**",
      "metadata": {}
    },
    {
      "cell_type": "code",
      "source": "def gauss(n):\n    return (n*(n+1))/2\ngauss(100) == sum(range(101))",
      "metadata": {
        "trusted": true
      },
      "execution_count": 3,
      "outputs": [
        {
          "execution_count": 3,
          "output_type": "execute_result",
          "data": {
            "text/plain": "True"
          },
          "metadata": {}
        }
      ]
    },
    {
      "cell_type": "markdown",
      "source": "<hr style=\"width:95%;text-align:left;margin-left:0\">",
      "metadata": {}
    },
    {
      "cell_type": "markdown",
      "source": "* **One** \n* **Two**\n* **Three**\n* **Four**\n* **Five**\n* **Six**",
      "metadata": {}
    },
    {
      "cell_type": "markdown",
      "source": "<style>\ntable {\n  font-family: arial, sans-serif;\n  border-collapse: collapse;\n  width: 100%;\n  direction: rtl;\n}\n\ntd, th {\n  border: 1px solid #dddddd;\n  text-align: left;\n  padding: 8px;\n}\n\ntr:nth-child(even) {\n  background-color: #dddddd;\n}\n</style>\n<table>\n  <tr>\n    <th>Markdown</th>\n    <th>Less</th>\n    <th>Pretty</th>\n  </tr>\n  <tr>\n    <td>Still</td>\n    <td>renders</td>\n    <td style=\"font-weight: bold;\">nicely</td>\n  </tr>\n  <tr>\n    <td>1</td>\n    <td>2</td>\n    <td>3</td>\n  </tr>\n \n</table>\n",
      "metadata": {}
    },
    {
      "cell_type": "markdown",
      "source": "<a href=\"https://www.ibm.com\">www.ibm.com</a>",
      "metadata": {}
    },
    {
      "cell_type": "code",
      "source": "",
      "metadata": {},
      "execution_count": null,
      "outputs": []
    }
  ]
}